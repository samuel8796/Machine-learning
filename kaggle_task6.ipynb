{
 "cells": [
  {
   "cell_type": "code",
   "execution_count": 1,
   "metadata": {},
   "outputs": [],
   "source": [
    "import numpy as np\n",
    "from sklearn.preprocessing import OneHotEncoder"
   ]
  },
  {
   "cell_type": "code",
   "execution_count": 2,
   "metadata": {},
   "outputs": [],
   "source": [
    "import pandas as pd"
   ]
  },
  {
   "cell_type": "code",
   "execution_count": 80,
   "metadata": {},
   "outputs": [],
   "source": [
    "data = pd.read_csv('introML2019F.task6.train.csv')"
   ]
  },
  {
   "cell_type": "code",
   "execution_count": 81,
   "metadata": {},
   "outputs": [
    {
     "data": {
      "text/html": [
       "<div>\n",
       "<style scoped>\n",
       "    .dataframe tbody tr th:only-of-type {\n",
       "        vertical-align: middle;\n",
       "    }\n",
       "\n",
       "    .dataframe tbody tr th {\n",
       "        vertical-align: top;\n",
       "    }\n",
       "\n",
       "    .dataframe thead th {\n",
       "        text-align: right;\n",
       "    }\n",
       "</style>\n",
       "<table border=\"1\" class=\"dataframe\">\n",
       "  <thead>\n",
       "    <tr style=\"text-align: right;\">\n",
       "      <th></th>\n",
       "      <th>feature_0</th>\n",
       "      <th>feature_1</th>\n",
       "      <th>feature_2</th>\n",
       "      <th>feature_3</th>\n",
       "      <th>feature_4</th>\n",
       "      <th>feature_5</th>\n",
       "      <th>feature_6</th>\n",
       "      <th>feature_7</th>\n",
       "      <th>feature_8</th>\n",
       "      <th>feature_9</th>\n",
       "      <th>...</th>\n",
       "      <th>feature_14</th>\n",
       "      <th>feature_15</th>\n",
       "      <th>feature_16</th>\n",
       "      <th>feature_17</th>\n",
       "      <th>feature_18</th>\n",
       "      <th>feature_19</th>\n",
       "      <th>feature_20</th>\n",
       "      <th>feature_21</th>\n",
       "      <th>label</th>\n",
       "      <th>Unnamed: 23</th>\n",
       "    </tr>\n",
       "  </thead>\n",
       "  <tbody>\n",
       "    <tr>\n",
       "      <th>0</th>\n",
       "      <td>0.50264</td>\n",
       "      <td>0.62412</td>\n",
       "      <td>0.79885</td>\n",
       "      <td>0.44321</td>\n",
       "      <td>0.14425</td>\n",
       "      <td>1.47105</td>\n",
       "      <td>0.66733</td>\n",
       "      <td>0.52906</td>\n",
       "      <td>0.14763</td>\n",
       "      <td>0.31768</td>\n",
       "      <td>...</td>\n",
       "      <td>0.69884</td>\n",
       "      <td>0.16976</td>\n",
       "      <td>0.63308</td>\n",
       "      <td>0.61545</td>\n",
       "      <td>0.09912</td>\n",
       "      <td>0.25179</td>\n",
       "      <td>0.48852</td>\n",
       "      <td>A</td>\n",
       "      <td>4</td>\n",
       "      <td>NaN</td>\n",
       "    </tr>\n",
       "    <tr>\n",
       "      <th>1</th>\n",
       "      <td>1.70773</td>\n",
       "      <td>0.06547</td>\n",
       "      <td>0.19182</td>\n",
       "      <td>0.60932</td>\n",
       "      <td>0.09782</td>\n",
       "      <td>0.66597</td>\n",
       "      <td>1.48079</td>\n",
       "      <td>0.62670</td>\n",
       "      <td>0.06620</td>\n",
       "      <td>0.22745</td>\n",
       "      <td>...</td>\n",
       "      <td>0.37647</td>\n",
       "      <td>0.13583</td>\n",
       "      <td>0.69156</td>\n",
       "      <td>0.25166</td>\n",
       "      <td>0.55700</td>\n",
       "      <td>0.96820</td>\n",
       "      <td>0.53283</td>\n",
       "      <td>C</td>\n",
       "      <td>0</td>\n",
       "      <td>NaN</td>\n",
       "    </tr>\n",
       "    <tr>\n",
       "      <th>2</th>\n",
       "      <td>0.07966</td>\n",
       "      <td>0.31402</td>\n",
       "      <td>0.91585</td>\n",
       "      <td>0.10647</td>\n",
       "      <td>0.23349</td>\n",
       "      <td>1.70121</td>\n",
       "      <td>1.08500</td>\n",
       "      <td>0.71929</td>\n",
       "      <td>0.11295</td>\n",
       "      <td>0.14545</td>\n",
       "      <td>...</td>\n",
       "      <td>0.93084</td>\n",
       "      <td>0.04318</td>\n",
       "      <td>0.87595</td>\n",
       "      <td>0.27953</td>\n",
       "      <td>0.85521</td>\n",
       "      <td>0.00026</td>\n",
       "      <td>0.53573</td>\n",
       "      <td>A</td>\n",
       "      <td>4</td>\n",
       "      <td>NaN</td>\n",
       "    </tr>\n",
       "  </tbody>\n",
       "</table>\n",
       "<p>3 rows × 24 columns</p>\n",
       "</div>"
      ],
      "text/plain": [
       "   feature_0  feature_1  feature_2  feature_3  feature_4  feature_5  \\\n",
       "0    0.50264    0.62412    0.79885    0.44321    0.14425    1.47105   \n",
       "1    1.70773    0.06547    0.19182    0.60932    0.09782    0.66597   \n",
       "2    0.07966    0.31402    0.91585    0.10647    0.23349    1.70121   \n",
       "\n",
       "   feature_6  feature_7  feature_8  feature_9  ...  feature_14  feature_15  \\\n",
       "0    0.66733    0.52906    0.14763    0.31768  ...     0.69884     0.16976   \n",
       "1    1.48079    0.62670    0.06620    0.22745  ...     0.37647     0.13583   \n",
       "2    1.08500    0.71929    0.11295    0.14545  ...     0.93084     0.04318   \n",
       "\n",
       "   feature_16  feature_17  feature_18  feature_19  feature_20  feature_21  \\\n",
       "0     0.63308     0.61545     0.09912     0.25179     0.48852           A   \n",
       "1     0.69156     0.25166     0.55700     0.96820     0.53283           C   \n",
       "2     0.87595     0.27953     0.85521     0.00026     0.53573           A   \n",
       "\n",
       "   label  Unnamed: 23  \n",
       "0      4          NaN  \n",
       "1      0          NaN  \n",
       "2      4          NaN  \n",
       "\n",
       "[3 rows x 24 columns]"
      ]
     },
     "execution_count": 81,
     "metadata": {},
     "output_type": "execute_result"
    }
   ],
   "source": [
    "data[0:3]"
   ]
  },
  {
   "cell_type": "code",
   "execution_count": 82,
   "metadata": {},
   "outputs": [],
   "source": [
    "trainx = data.iloc[:,list(range(22))]\n",
    "trainy = data.iloc[:,22]"
   ]
  },
  {
   "cell_type": "code",
   "execution_count": 83,
   "metadata": {},
   "outputs": [],
   "source": [
    "trainx= pd.get_dummies(trainx)"
   ]
  },
  {
   "cell_type": "code",
   "execution_count": 85,
   "metadata": {},
   "outputs": [],
   "source": [
    "def shuffle(X):\n",
    "    np.random.seed(10)\n",
    "    randomList = np.arange(X.shape[0])\n",
    "    np.random.shuffle(randomList)\n",
    "    return X[randomList]"
   ]
  },
  {
   "cell_type": "code",
   "execution_count": 84,
   "metadata": {},
   "outputs": [],
   "source": [
    "trainx = trainx.to_numpy()\n",
    "trainy = trainy.to_numpy()"
   ]
  },
  {
   "cell_type": "code",
   "execution_count": 86,
   "metadata": {},
   "outputs": [],
   "source": [
    "trainx = shuffle(trainx)\n",
    "trainy = shuffle(trainy)"
   ]
  },
  {
   "cell_type": "code",
   "execution_count": 87,
   "metadata": {},
   "outputs": [],
   "source": [
    "from sklearn.ensemble import RandomForestClassifier"
   ]
  },
  {
   "cell_type": "code",
   "execution_count": 88,
   "metadata": {},
   "outputs": [],
   "source": [
    "clf = RandomForestClassifier(n_estimators=10,max_depth=10, random_state=1)"
   ]
  },
  {
   "cell_type": "code",
   "execution_count": 89,
   "metadata": {},
   "outputs": [
    {
     "data": {
      "text/plain": [
       "RandomForestClassifier(bootstrap=True, class_weight=None, criterion='gini',\n",
       "                       max_depth=10, max_features='auto', max_leaf_nodes=None,\n",
       "                       min_impurity_decrease=0.0, min_impurity_split=None,\n",
       "                       min_samples_leaf=1, min_samples_split=2,\n",
       "                       min_weight_fraction_leaf=0.0, n_estimators=10,\n",
       "                       n_jobs=None, oob_score=False, random_state=1, verbose=0,\n",
       "                       warm_start=False)"
      ]
     },
     "execution_count": 89,
     "metadata": {},
     "output_type": "execute_result"
    }
   ],
   "source": [
    "clf.fit(trainx[0:100000],trainy[0:100000])  "
   ]
  },
  {
   "cell_type": "code",
   "execution_count": 90,
   "metadata": {},
   "outputs": [
    {
     "data": {
      "text/plain": [
       "0.99886"
      ]
     },
     "execution_count": 90,
     "metadata": {},
     "output_type": "execute_result"
    }
   ],
   "source": [
    "clf.score(trainx[150000:200000],trainy[150000:200000])"
   ]
  },
  {
   "cell_type": "code",
   "execution_count": 91,
   "metadata": {},
   "outputs": [],
   "source": [
    "test = pd.read_csv(\"introML2019F.task6.test.shuffled.noanswers.csv\")\n",
    "test = pd.get_dummies(test)"
   ]
  },
  {
   "cell_type": "code",
   "execution_count": 92,
   "metadata": {},
   "outputs": [],
   "source": [
    "result = clf.predict(test)"
   ]
  },
  {
   "cell_type": "code",
   "execution_count": 93,
   "metadata": {},
   "outputs": [],
   "source": [
    "ID = 1\n",
    "answer = []\n",
    "for Category in result:\n",
    "    answer.append([ID,int(Category)])\n",
    "    ID+=1"
   ]
  },
  {
   "cell_type": "code",
   "execution_count": 94,
   "metadata": {},
   "outputs": [],
   "source": [
    "import csv\n",
    "\n",
    "with open('output111.csv', 'w', newline='') as csvfile:\n",
    "    writer = csv.writer(csvfile)\n",
    "    writer.writerow(['ID', 'Category'])\n",
    "    writer.writerows(answer)  "
   ]
  },
  {
   "cell_type": "code",
   "execution_count": null,
   "metadata": {},
   "outputs": [],
   "source": []
  },
  {
   "cell_type": "code",
   "execution_count": null,
   "metadata": {},
   "outputs": [],
   "source": []
  }
 ],
 "metadata": {
  "kernelspec": {
   "display_name": "Python 3",
   "language": "python",
   "name": "python3"
  },
  "language_info": {
   "codemirror_mode": {
    "name": "ipython",
    "version": 3
   },
   "file_extension": ".py",
   "mimetype": "text/x-python",
   "name": "python",
   "nbconvert_exporter": "python",
   "pygments_lexer": "ipython3",
   "version": "3.7.3"
  }
 },
 "nbformat": 4,
 "nbformat_minor": 2
}
